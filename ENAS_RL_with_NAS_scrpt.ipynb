{
 "cells": [
  {
   "cell_type": "code",
   "execution_count": null,
   "metadata": {},
   "outputs": [],
   "source": [
    "from abc import ABC, abstractmethod\n",
    "import numpy as np\n",
    "from itertools import product\n",
    "import numpy as np\n",
    "#from derl.common import flat_layers_iterator#??? \"\"\" Iterator over all layers of a given model. \"\"\"\n",
    "import gym\n",
    "import torch\n",
    "from torch.nn import Module\n",
    "from itertools import chain\n",
    "from torch.nn import init\n",
    "import math"
   ]
  },
  {
   "cell_type": "markdown",
   "metadata": {},
   "source": [
    "## Device"
   ]
  },
  {
   "cell_type": "code",
   "execution_count": null,
   "metadata": {},
   "outputs": [],
   "source": [
    "device = 'cuda:3'"
   ]
  },
  {
   "cell_type": "markdown",
   "metadata": {},
   "source": [
    "## Space"
   ]
  },
  {
   "cell_type": "code",
   "execution_count": null,
   "metadata": {},
   "outputs": [],
   "source": [
    "from my_base import Space \n",
    "from selection.spaces import MultiDiscrete, SkipSpace, ChooseSpace, SearchSpace"
   ]
  },
  {
   "cell_type": "markdown",
   "metadata": {},
   "source": [
    "## Select Layers"
   ]
  },
  {
   "cell_type": "code",
   "execution_count": null,
   "metadata": {},
   "outputs": [],
   "source": [
    "from selection.select_layers import SelectLayer, SelectModelFromLayers, reset_parameters, instantiate_model"
   ]
  },
  {
   "cell_type": "markdown",
   "metadata": {},
   "source": [
    "# Get model"
   ]
  },
  {
   "cell_type": "code",
   "execution_count": null,
   "metadata": {},
   "outputs": [],
   "source": [
    "from selection.custom_layers import Conv2dSame, MaxPool2dSame, MaybeRescale, pad_to_size, PadToSize, PadFeatureMaps"
   ]
  },
  {
   "cell_type": "code",
   "execution_count": null,
   "metadata": {},
   "outputs": [],
   "source": [
    "from selection.base_layers import impala_base_layers\n",
    "def get_random_model(env, device):\n",
    "    \"\"\" Returns a randomly sampled model from the architecture space\"\"\"\n",
    "    model = SelectModelFromLayers(output_feats = [env.action_space.n, 1], base_layers=impala_base_layers())\n",
    "    sample = model.space.sample()\n",
    "    print(sample)\n",
    "    #if logdir is not None:\n",
    "        #with open(os.path.join(logdir, \"sample.txt\"), \"a\") as samplefile:\n",
    "        #      samplefile.write(' '.join(map(str, sample.numpy())) + \"\\n\")\n",
    "    model.select(sample)\n",
    "    x = torch.rand(1, *env.observation_space.shape).to(device)\n",
    "    instantiate_model(model.to(device), x)\n",
    "    \n",
    "    return model"
   ]
  },
  {
   "cell_type": "markdown",
   "metadata": {},
   "source": [
    "## Train RL models"
   ]
  },
  {
   "cell_type": "code",
   "execution_count": null,
   "metadata": {},
   "outputs": [],
   "source": [
    "from learners.learners import PPOLearner"
   ]
  },
  {
   "cell_type": "code",
   "execution_count": null,
   "metadata": {},
   "outputs": [],
   "source": [
    "#from derl.env import make as make_env\n",
    "import runners.my_runners"
   ]
  },
  {
   "cell_type": "code",
   "execution_count": null,
   "metadata": {},
   "outputs": [],
   "source": [
    "from env.my_envs import make"
   ]
  },
  {
   "cell_type": "code",
   "execution_count": null,
   "metadata": {
    "scrolled": true
   },
   "outputs": [],
   "source": [
    "\n",
    "env = make(env_id = 'FreewayNoFrameskip-v0', nenvs = 8)\n",
    "model = get_random_model(env, device=None)"
   ]
  },
  {
   "cell_type": "code",
   "execution_count": null,
   "metadata": {},
   "outputs": [],
   "source": [
    "args = PPOLearner.get_defaults(env_type = 'atari')\n",
    "learner = PPOLearner.from_env_args(env, args, device=None, model=model)"
   ]
  },
  {
   "cell_type": "code",
   "execution_count": null,
   "metadata": {},
   "outputs": [],
   "source": [
    "args"
   ]
  },
  {
   "cell_type": "code",
   "execution_count": null,
   "metadata": {
    "scrolled": true
   },
   "outputs": [],
   "source": [
    "#3 loss - 1 rew\n",
    "learner.learn(args['num_train_steps'], 'new_weights/nas_found_8envs.pth', 1)"
   ]
  },
  {
   "cell_type": "markdown",
   "metadata": {},
   "source": [
    "# ENAS"
   ]
  },
  {
   "cell_type": "code",
   "execution_count": null,
   "metadata": {},
   "outputs": [],
   "source": [
    "args = None\n",
    "if args is None:\n",
    "    args = {\n",
    "            \"atari\": {\n",
    "                \"num_train_steps\": 10e6,\n",
    "                \"nenvs\": 8,\n",
    "                \"num_runner_steps\": 128,\n",
    "                \"gamma\": 0.99,\n",
    "                \"lambda_\": 0.95,\n",
    "                \"num_epochs\": 3,\n",
    "                \"num_minibatches\": 4,\n",
    "                \"cliprange\": 0.1,\n",
    "                \"value_loss_coef\": 0.25,\n",
    "                \"entropy_coef\": 0.01,\n",
    "                \"max_grad_norm\": 0.5,\n",
    "                \"lr\": 2.5e-4,\n",
    "                \"optimizer_epsilon\": 1e-5,\n",
    "                \"search_space\": \"impala\",\n",
    "                \"num_learner_steps\":10,\n",
    "                \"num_nas_runner_steps\":3,\n",
    "                \"nas_lr\": 1e-3,\n",
    "                \"nas_entropy_coef\": 1e-4,\n",
    "                \"nas_optimizer_epsilon\":1e-5,\n",
    "                \"nas_baseline_momentum\":0.2,\n",
    "                }}\n",
    "args = args['atari']"
   ]
  },
  {
   "cell_type": "code",
   "execution_count": null,
   "metadata": {},
   "outputs": [],
   "source": [
    "from train_nas import train\n",
    "controller, learner = train(device, args, 'FreewayNoFrameskip-v0', logdir = '/gpfs/gpfs0/n.mazyavkina/new_weights/env81')"
   ]
  },
  {
   "cell_type": "code",
   "execution_count": null,
   "metadata": {},
   "outputs": [],
   "source": [
    "learner.select_model.selection"
   ]
  }
 ],
 "metadata": {
  "kernelspec": {
   "display_name": "Python 3",
   "language": "python",
   "name": "python3"
  },
  "language_info": {
   "codemirror_mode": {
    "name": "ipython",
    "version": 3
   },
   "file_extension": ".py",
   "mimetype": "text/x-python",
   "name": "python",
   "nbconvert_exporter": "python",
   "pygments_lexer": "ipython3",
   "version": "3.7.1"
  }
 },
 "nbformat": 4,
 "nbformat_minor": 2
}
